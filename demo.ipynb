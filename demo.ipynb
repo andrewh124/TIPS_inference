{
 "cells": [
  {
   "cell_type": "code",
   "execution_count": null,
   "id": "1be72326",
   "metadata": {},
   "outputs": [],
   "source": [
    "from src.scoring import ScoringPipeline\n",
    "\n",
    "scoring_pipeline = ScoringPipeline('TIPS_models/PhotoEnergyStory')\n",
    "scoring_pipeline.get_prediction('This is a response', 0, 5)"
   ]
  }
 ],
 "metadata": {
  "kernelspec": {
   "display_name": "nlp",
   "language": "python",
   "name": "python3"
  },
  "language_info": {
   "name": "python",
   "version": "3.8.19"
  }
 },
 "nbformat": 4,
 "nbformat_minor": 5
}

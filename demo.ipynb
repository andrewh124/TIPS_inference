{
 "cells": [
  {
   "cell_type": "code",
   "execution_count": null,
   "id": "1be72326",
   "metadata": {},
   "outputs": [],
   "source": [
    "from src.scoring import ScoringPipeline\n",
    "\n",
    "scoring_pipeline = ScoringPipeline('TIPS_models/PhotoEnergyStory')\n",
    "scoring_pipeline.get_prediction('This is a response', 0, 5)"
   ]
  },
  {
   "cell_type": "code",
   "execution_count": null,
   "id": "94ee38ea",
   "metadata": {},
   "outputs": [],
   "source": [
    "from src.idea_detection import IdeaDetectionPipeline\n",
    "\n",
    "idea_detection_pipeline = IdeaDetectionPipeline('TIPS_model/PhotoEnergyStory_idea-ki')\n",
    "idea_detection_pipeline.get_prediction('This is a response.')"
   ]
  },
  {
   "cell_type": "code",
   "execution_count": null,
   "id": "e003e0c9",
   "metadata": {},
   "outputs": [],
   "source": [
    "from src.nonscorable import NonscorablePipeline\n",
    "\n",
    "nonscorable_pipeline = NonscorablePipeline(\"TIPS_model/WISE_nonscorable\")\n",
    "nonscorable_pipeline.get_prediction(\"I have no clue.\")"
   ]
  }
 ],
 "metadata": {
  "kernelspec": {
   "display_name": "nlp",
   "language": "python",
   "name": "python3"
  },
  "language_info": {
   "name": "python",
   "version": "3.8.19"
  }
 },
 "nbformat": 4,
 "nbformat_minor": 5
}
